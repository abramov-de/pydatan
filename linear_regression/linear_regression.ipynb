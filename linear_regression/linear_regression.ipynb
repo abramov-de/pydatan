{
 "cells": [
  {
   "cell_type": "code",
   "execution_count": 2,
   "id": "01fdd78c-317b-45f4-99a2-20cf0a77d317",
   "metadata": {},
   "outputs": [
    {
     "data": {
      "text/plain": [
       "Index(['Unnamed: 0', 'Artist', 'Url_spotify', 'Track', 'Album', 'Album_type',\n",
       "       'Uri', 'Danceability', 'Energy', 'Key', 'Loudness', 'Speechiness',\n",
       "       'Acousticness', 'Instrumentalness', 'Liveness', 'Valence', 'Tempo',\n",
       "       'Duration_ms', 'Url_youtube', 'Title', 'Channel', 'Views', 'Likes',\n",
       "       'Comments', 'Description', 'Licensed', 'official_video', 'Stream'],\n",
       "      dtype='object')"
      ]
     },
     "execution_count": 2,
     "metadata": {},
     "output_type": "execute_result"
    }
   ],
   "source": [
    "import pandas as pd\n",
    "df = pd.read_csv('Spotify_Youtube.csv')\n",
    "df.columns"
   ]
  },
  {
   "cell_type": "code",
   "execution_count": 3,
   "id": "57f7badf-7aa6-4053-9b4a-d6ef8da5ae24",
   "metadata": {},
   "outputs": [],
   "source": [
    "df['Duration'] = df['Duration_ms'] / 1000"
   ]
  },
  {
   "cell_type": "code",
   "execution_count": 4,
   "id": "c90c9a6d-fed5-41ca-a5b6-b869f1e6bf99",
   "metadata": {},
   "outputs": [],
   "source": [
    "df = df[(df['Duration'] < 300) & (df['Duration'] > 30)]"
   ]
  },
  {
   "cell_type": "code",
   "execution_count": 5,
   "id": "d41dd5ba-129f-4220-8289-aa30c3e537a9",
   "metadata": {},
   "outputs": [
    {
     "name": "stdout",
     "output_type": "stream",
     "text": [
      "           Duration  Danceability      Loudness   Speechiness        Energy\n",
      "count  18646.000000  18646.000000  18646.000000  18646.000000  18646.000000\n",
      "mean     206.110522      0.626312     -7.536997      0.097840      0.638738\n",
      "std       45.703952      0.161589      4.577807      0.113562      0.213155\n",
      "min       30.985000      0.000000    -46.251000      0.000000      0.000055\n",
      "25%      176.144000      0.527000     -8.649750      0.035900      0.511000\n",
      "50%      207.264500      0.643000     -6.422000      0.051300      0.670000\n",
      "75%      237.559000      0.744000     -4.860000      0.107000      0.801000\n",
      "max      299.960000      0.975000      0.920000      0.964000      1.000000\n"
     ]
    }
   ],
   "source": [
    "df = df[['Duration', 'Danceability', 'Loudness', 'Speechiness', 'Energy']].dropna()\n",
    "print(df.describe())"
   ]
  },
  {
   "cell_type": "code",
   "execution_count": 6,
   "id": "7b3e8a81-0dfe-4d37-aaab-84f8a1198b91",
   "metadata": {},
   "outputs": [],
   "source": [
    "import statsmodels.api as sm\n",
    "from statsmodels.regression.linear_model import OLS"
   ]
  },
  {
   "cell_type": "code",
   "execution_count": 7,
   "id": "a8a8adbb-3de0-48c1-9620-618c0e8173c5",
   "metadata": {},
   "outputs": [],
   "source": [
    "X = df[['Danceability', 'Loudness', 'Speechiness', 'Energy']]\n",
    "Y = df['Duration']\n",
    "\n",
    "X = sm.add_constant(X, prepend=False)"
   ]
  },
  {
   "cell_type": "code",
   "execution_count": 8,
   "id": "2224fe10-ab7f-4fd6-bd30-f1721f41fe9e",
   "metadata": {},
   "outputs": [
    {
     "name": "stdout",
     "output_type": "stream",
     "text": [
      "                            OLS Regression Results                            \n",
      "==============================================================================\n",
      "Dep. Variable:               Duration   R-squared:                       0.046\n",
      "Model:                            OLS   Adj. R-squared:                  0.046\n",
      "Method:                 Least Squares   F-statistic:                     225.9\n",
      "Date:                Sun, 13 Aug 2023   Prob (F-statistic):          1.01e-189\n",
      "Time:                        13:24:45   Log-Likelihood:                -97284.\n",
      "No. Observations:               18646   AIC:                         1.946e+05\n",
      "Df Residuals:                   18641   BIC:                         1.946e+05\n",
      "Df Model:                           4                                         \n",
      "Covariance Type:            nonrobust                                         \n",
      "================================================================================\n",
      "                   coef    std err          t      P>|t|      [0.025      0.975]\n",
      "--------------------------------------------------------------------------------\n",
      "Danceability   -27.5230      2.208    -12.463      0.000     -31.851     -23.194\n",
      "Loudness         2.0397      0.111     18.413      0.000       1.823       2.257\n",
      "Speechiness    -39.7622      2.954    -13.461      0.000     -45.552     -33.972\n",
      "Energy          -3.9776      2.288     -1.739      0.082      -8.462       0.507\n",
      "const          245.1527      2.712     90.402      0.000     239.837     250.468\n",
      "==============================================================================\n",
      "Omnibus:                       69.121   Durbin-Watson:                   1.304\n",
      "Prob(Omnibus):                  0.000   Jarque-Bera (JB):               69.670\n",
      "Skew:                          -0.147   Prob(JB):                     7.44e-16\n",
      "Kurtosis:                       2.938   Cond. No.                         97.9\n",
      "==============================================================================\n",
      "\n",
      "Notes:\n",
      "[1] Standard Errors assume that the covariance matrix of the errors is correctly specified.\n"
     ]
    }
   ],
   "source": [
    "model = OLS(Y, X)\n",
    "res = model.fit()\n",
    "print(res.summary())"
   ]
  },
  {
   "cell_type": "code",
   "execution_count": 9,
   "id": "a418d73e-bd8d-4a14-9709-b24dc456d4b0",
   "metadata": {},
   "outputs": [
    {
     "name": "stdout",
     "output_type": "stream",
     "text": [
      "                            OLS Regression Results                            \n",
      "==============================================================================\n",
      "Dep. Variable:               Duration   R-squared:                       0.046\n",
      "Model:                            OLS   Adj. R-squared:                  0.046\n",
      "Method:                 Least Squares   F-statistic:                     300.2\n",
      "Date:                Sun, 13 Aug 2023   Prob (F-statistic):          2.43e-190\n",
      "Time:                        13:24:45   Log-Likelihood:                -97286.\n",
      "No. Observations:               18646   AIC:                         1.946e+05\n",
      "Df Residuals:                   18642   BIC:                         1.946e+05\n",
      "Df Model:                           3                                         \n",
      "Covariance Type:            nonrobust                                         \n",
      "================================================================================\n",
      "                   coef    std err          t      P>|t|      [0.025      0.975]\n",
      "--------------------------------------------------------------------------------\n",
      "Danceability   -27.2695      2.204    -12.375      0.000     -31.589     -22.950\n",
      "Loudness         1.8999      0.076     24.945      0.000       1.751       2.049\n",
      "Speechiness    -40.1560      2.945    -13.634      0.000     -45.929     -34.383\n",
      "const          241.4378      1.670    144.591      0.000     238.165     244.711\n",
      "==============================================================================\n",
      "Omnibus:                       71.496   Durbin-Watson:                   1.305\n",
      "Prob(Omnibus):                  0.000   Jarque-Bera (JB):               72.155\n",
      "Skew:                          -0.150   Prob(JB):                     2.15e-16\n",
      "Kurtosis:                       2.945   Cond. No.                         83.2\n",
      "==============================================================================\n",
      "\n",
      "Notes:\n",
      "[1] Standard Errors assume that the covariance matrix of the errors is correctly specified.\n"
     ]
    }
   ],
   "source": [
    "X = df[['Danceability', 'Loudness', 'Speechiness']]\n",
    "Y = df['Duration']\n",
    "\n",
    "X = sm.add_constant(X, prepend=False)\n",
    "\n",
    "model = OLS(Y, X)\n",
    "res = model.fit()\n",
    "print(res.summary())"
   ]
  },
  {
   "cell_type": "code",
   "execution_count": 10,
   "id": "aa586869-fe09-4b35-b9a7-b6246bf2b234",
   "metadata": {},
   "outputs": [
    {
     "name": "stdout",
     "output_type": "stream",
     "text": [
      "                            OLS Regression Results                            \n",
      "==============================================================================\n",
      "Dep. Variable:               Duration   R-squared:                       0.003\n",
      "Model:                            OLS   Adj. R-squared:                  0.003\n",
      "Method:                 Least Squares   F-statistic:                     49.39\n",
      "Date:                Sun, 13 Aug 2023   Prob (F-statistic):           2.17e-12\n",
      "Time:                        13:24:45   Log-Likelihood:                -97701.\n",
      "No. Observations:               18646   AIC:                         1.954e+05\n",
      "Df Residuals:                   18644   BIC:                         1.954e+05\n",
      "Df Model:                           1                                         \n",
      "Covariance Type:            nonrobust                                         \n",
      "================================================================================\n",
      "                   coef    std err          t      P>|t|      [0.025      0.975]\n",
      "--------------------------------------------------------------------------------\n",
      "Danceability   -14.5388      2.069     -7.028      0.000     -18.594     -10.484\n",
      "const          215.2163      1.338    160.840      0.000     212.594     217.839\n",
      "==============================================================================\n",
      "Omnibus:                      369.810   Durbin-Watson:                   1.245\n",
      "Prob(Omnibus):                  0.000   Jarque-Bera (JB):              394.235\n",
      "Skew:                          -0.341   Prob(JB):                     2.47e-86\n",
      "Kurtosis:                       3.206   Cond. No.                         8.66\n",
      "==============================================================================\n",
      "\n",
      "Notes:\n",
      "[1] Standard Errors assume that the covariance matrix of the errors is correctly specified.\n"
     ]
    }
   ],
   "source": [
    "X = df[['Danceability']]\n",
    "Y = df['Duration']\n",
    "\n",
    "X = sm.add_constant(X, prepend=False)\n",
    "\n",
    "model = OLS(Y, X)\n",
    "res = model.fit()\n",
    "print(res.summary())"
   ]
  },
  {
   "cell_type": "code",
   "execution_count": null,
   "id": "14738158-3502-4a0b-9a9f-cccd3d05c303",
   "metadata": {},
   "outputs": [],
   "source": []
  }
 ],
 "metadata": {
  "kernelspec": {
   "display_name": "Python 3 (ipykernel)",
   "language": "python",
   "name": "python3"
  },
  "language_info": {
   "codemirror_mode": {
    "name": "ipython",
    "version": 3
   },
   "file_extension": ".py",
   "mimetype": "text/x-python",
   "name": "python",
   "nbconvert_exporter": "python",
   "pygments_lexer": "ipython3",
   "version": "3.9.11"
  }
 },
 "nbformat": 4,
 "nbformat_minor": 5
}
